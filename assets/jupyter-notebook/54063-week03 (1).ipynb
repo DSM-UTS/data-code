{
 "cells": [
  {
   "cell_type": "markdown",
   "metadata": {},
   "source": [
    "# Week 3: 54063 Code as literacy, commodity and infrastructure\n",
    "\n",
    "What does this code does?\n",
    "\n",
    "## Code Snippet 01"
   ]
  },
  {
   "cell_type": "code",
   "execution_count": null,
   "metadata": {},
   "outputs": [],
   "source": [
    "print(\"I love Python\")"
   ]
  },
  {
   "cell_type": "markdown",
   "metadata": {},
   "source": [
    "## Code Snippet 02"
   ]
  },
  {
   "cell_type": "code",
   "execution_count": null,
   "metadata": {},
   "outputs": [],
   "source": [
    "x = 1\n",
    "if x == 1:\n",
    "    print(\"x is 1.\")"
   ]
  },
  {
   "cell_type": "markdown",
   "metadata": {},
   "source": [
    "## Code Snippet 03"
   ]
  },
  {
   "cell_type": "code",
   "execution_count": null,
   "metadata": {},
   "outputs": [],
   "source": [
    "n = input(\"Number? \")\n",
    "n = int(n)\n",
    "if n < 10:\n",
    "    print(\"The number\", n, \"is less than 10\")\n",
    "elif n == 10:\n",
    "    print(\"The number\", n, \"is 10\")\n",
    "else:\n",
    "    print(\"The number\", n, \"is more than 10\")"
   ]
  },
  {
   "cell_type": "markdown",
   "metadata": {},
   "source": [
    "## Code Snippet 04"
   ]
  },
  {
   "cell_type": "code",
   "execution_count": null,
   "metadata": {},
   "outputs": [],
   "source": [
    "# This is how we define a function named `largest` in Python\n",
    "def largest(array):\n",
    "    n = len(array)\n",
    "    max = array[0]\n",
    "for i in range(1, n):\n",
    "    if array[i] > max:\n",
    "        max = array[i]\n",
    "        return max\n",
    "# This is how we use a function in Python\n",
    "my_array = [1,6,8,9,0]\n",
    "largest(my_array)\n",
    "# This code is contributed by Smitha Dinesh Semwal"
   ]
  }
 ],
 "metadata": {
  "kernelspec": {
   "display_name": "Python 3",
   "language": "python",
   "name": "python3"
  },
  "language_info": {
   "codemirror_mode": {
    "name": "ipython",
    "version": 3
   },
   "file_extension": ".py",
   "mimetype": "text/x-python",
   "name": "python",
   "nbconvert_exporter": "python",
   "pygments_lexer": "ipython3",
   "version": "3.7.6"
  }
 },
 "nbformat": 4,
 "nbformat_minor": 4
}
